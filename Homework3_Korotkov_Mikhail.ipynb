{
 "cells": [
  {
   "cell_type": "code",
   "execution_count": 1,
   "id": "further-stanley",
   "metadata": {},
   "outputs": [],
   "source": [
    "import re\n",
    "from collections import Counter, defaultdict\n",
    "\n",
    "import numpy as np"
   ]
  },
  {
   "cell_type": "code",
   "execution_count": 2,
   "id": "white-snowboard",
   "metadata": {
    "tags": []
   },
   "outputs": [],
   "source": [
    "with open(\"AnnaKarenina.txt\", \"r\", encoding=\"utf8\") as data:\n",
    "    corpus = data.read()\n",
    "\n",
    "with open(\"WarAndPeace.txt\", \"r\", encoding=\"utf8\") as data:\n",
    "    corpus += data.read()"
   ]
  },
  {
   "cell_type": "code",
   "execution_count": 3,
   "id": "determined-quick",
   "metadata": {},
   "outputs": [
    {
     "data": {
      "text/plain": [
       "2385683"
      ]
     },
     "execution_count": 3,
     "metadata": {},
     "output_type": "execute_result"
    }
   ],
   "source": [
    "Regular = re.compile(r\"\\W+\")\n",
    "corpus = Regular.sub(\" \", corpus).lower()\n",
    "len(corpus)"
   ]
  },
  {
   "cell_type": "code",
   "execution_count": 4,
   "id": "exciting-savannah",
   "metadata": {},
   "outputs": [],
   "source": [
    "train1, test1 = corpus[:-100], corpus[-100:]\n",
    "train2, test2 = corpus[:-800], corpus[-800:]\n",
    "train3, test3 = corpus[:-1500], corpus[-1500:]"
   ]
  },
  {
   "cell_type": "code",
   "execution_count": 5,
   "id": "voluntary-regression",
   "metadata": {},
   "outputs": [
    {
     "data": {
      "text/plain": [
       "'ный он не выздоровеет князь андрей в числе других безнадежных раненых был сдан на попечение жителей '"
      ]
     },
     "execution_count": 5,
     "metadata": {},
     "output_type": "execute_result"
    }
   ],
   "source": [
    "test1"
   ]
  },
  {
   "cell_type": "code",
   "execution_count": 6,
   "id": "increasing-break",
   "metadata": {},
   "outputs": [],
   "source": [
    "def random_encode_text(text):\n",
    "    chars = list(set(text))\n",
    "    mapping = dict(zip(chars, list(map(chr, np.random.choice(range(1, 5000), size=len(chars), replace=False)))))\n",
    "    encoded = [mapping[char] for char in text]\n",
    "    return \"\".join(encoded)"
   ]
  },
  {
   "cell_type": "code",
   "execution_count": 7,
   "id": "adjacent-dimension",
   "metadata": {},
   "outputs": [],
   "source": [
    "encoded_test1 = random_encode_text(test1)\n",
    "encoded_test2 = random_encode_text(test2)\n",
    "encoded_test3 = random_encode_text(test3)"
   ]
  },
  {
   "cell_type": "code",
   "execution_count": 8,
   "id": "material-worse",
   "metadata": {},
   "outputs": [
    {
     "data": {
      "text/plain": [
       "'\\u0e00༓\\x99XɈ\\u0e00X\\u0e00ຶXج༓ᅔӊɈ࠴Ɉجຶຶ\\u0b3bXʉ\\u0e00ŘᅔƁXମ\\u0e00ӊ࠴ຶ\\x99XجXض༆\\x7f͝ຶXӊ࠴ӻॱ༆\\u0558Xܑຶᅔ\\u0e00ମӊຶԣ\\u0e00༓\\u0558X࠴ମ\\u0e00ຶ\\u0e00༓\\u0558Xܑ༓͝X\\x7fӊମ\\u0e00X\\u0e00ମXअɈअຶضຶ\\u0e00༆ຶXԣ༆\\u0b3bຶ͝ຶ\\x99X'"
      ]
     },
     "execution_count": 8,
     "metadata": {},
     "output_type": "execute_result"
    }
   ],
   "source": [
    "encoded_test1"
   ]
  },
  {
   "cell_type": "markdown",
   "id": "according-detective",
   "metadata": {},
   "source": [
    "# 1. Частотный метод\n",
    "\n",
    "Возьмем 3 тестовых предложения и реализуем частотный метод по Шерлоку Холмсу"
   ]
  },
  {
   "cell_type": "code",
   "execution_count": 9,
   "id": "fifty-multiple",
   "metadata": {},
   "outputs": [],
   "source": [
    "def unigramm_mapping(encoded, real):\n",
    "    encoded_count = Counter(encoded).most_common()\n",
    "    symbol_count = Counter(real)\n",
    "    mapping = {}\n",
    "    for position, (symbol, count) in enumerate(symbol_count.most_common(len(encoded_count))):\n",
    "        mapping[encoded_count[position][0]] = symbol\n",
    "\n",
    "    return mapping\n",
    "\n",
    "\n",
    "def decode_text(text, mapping):\n",
    "    return \"\".join([mapping[symbol] for symbol in text])\n",
    "\n",
    "\n",
    "mapping_enc_dec1 = unigramm_mapping(encoded_test1, train1)\n",
    "mapping_enc_dec2 = unigramm_mapping(encoded_test2, train2)\n",
    "mapping_enc_dec3 = unigramm_mapping(encoded_test3, train3)\n",
    "decoded1 = decode_text(encoded_test1, mapping_enc_dec1)\n",
    "decoded2 = decode_text(encoded_test2, mapping_enc_dec2)\n",
    "decoded3 = decode_text(encoded_test3, mapping_enc_dec3)"
   ]
  },
  {
   "cell_type": "code",
   "execution_count": 10,
   "id": "original-grain",
   "metadata": {},
   "outputs": [
    {
     "data": {
      "text/plain": [
       "('еав те ео ракнтстрооу безкч иенсов р плядо нсжйлм ьокеиногеам сиеоеам ьад яние еи ытыопоело глуодов ',\n",
       " 'ияглн кнсоаыьеяе аипвехаеяе анбесоеан и анм рток цвик рутеьео аоче тетвнрсдси яснраео етаернаио ояе яелдпопауж бломтвнрсоаий вижнд хизаы и тбеьейаео токойаео тпнтвио р сутуж яелнж бломтвнрсдситы окг еа гхо антснхмнстд цвик тпнтвиок ьеямн рмлгя дрсдстд кнсоаыьий анбlсоеа т треик чозгпнтваук еялнаипоааук и тпнтвсирук ев аотпнтвид млгяиж рзясдмек и анпианситы текаоаид кгьи и весыье аоче ечоmнсе гтбеьеоаио ь гвлг рто копвнаид ткоaнситы и тсиситы р жнет и клнь чотбнкдвтврн и знчроаид ьевелуо яелнзме роледваоо бе каоаиr тнкеяе снллод меьвелн анбесоеан месхау чуси лнзлоaивытд тколвыr пок рузмелерсоаиок o шщe юэ щюcшe эшфdшюu шe pitiшюu тьнзнс снллой it э шэ фшo1nssшфn snщ цве посероь аолрауй и хоспауй еа ао рузмелероов ьадзы намлой р питсо млгяиж чозанмохауж лнаоауж чус тмна ан бебопоаио хивосой ',\n",
       " ' ботле аее сик йи увозок дид зя тпитслнр н тбодоеа м зял ечелн зя коу тдийись себевь уотбогн бокнлыж кеам ао докы м тдичы юсо нлн тнли аеобвегелеааим аеботснчнким д досовож м ае сольдо ае коуы озвифисьтм ао досовож ае коуы рявийнсь тлорикн релндое ртm нлн анпеуо уоровнл оа тик тезе нлн юсо сос зоу досовяж рос йгеть йиэнс р юсож лигоаде дамчаож кивьеж анпеуо анпеуо аес реваоуо двоке анпсочетсри ртеуо соуо псо кае боамсао н релнпнм пеуо со аебоамсаоуо ао ричаежэеуо аотнлдн своаылнть бвн дичгок солпде оа обмсь пыртсрорил аеряаотнкыц золь лншовигопаое тотсомане ытнлнлоть н оа аипнаил звегнсь се кепсианм оз осcе чеае тетсве н зыгыфек тяае н аечаотсь досовыц оа нтбясярил р аопь аидиаыае твичеанм dнуыви килеаьдоуо анпсочаоуо аиболеоаи н аиг ртек юснк рятодое аезо тотсирлмлн улираое отаориане еуо уовмпепаяш бвегтсирлеанж сншим чнйаь н тбодожаое текежаое тпитсне р лятяш уовиш бвегтсирлмлнть екы оа ыче аитличгилтм юснк тпитснек доуги ргвыу мрлмлтм килеаьднж аибpлеоа т тронк зейыпитсаяк оувианпеааяк н тпитслнряк ос аетпитснм гвыунш рйулмгок н аипнаилнть токаеанм кыдн н сольдо аезо озефило ытбодоеане д ысвы рте кепсианм ткеэилнть н тлнлнть р шиот н квид зетбикмстсри н йизреанм досовяе уовийго ревомсаее бо каеанц тикоуо ливвем годсови аиболеоаи голчая зялн вийвеэнсьтм ткевсьц пек ряйговорлеанек u хin щe iщ1хn eхsvхщt хn ъalaхщt тдийил ливвеж al e хe sхu2rooхsr ori юсо пелоред аевраяж н челпаяж оа ае ряйговореес дамйь иагвеж р пнтле гвыунш зейаигечаяш виаеаяш зял тгиа аи бобепеане чнсележ ')"
      ]
     },
     "execution_count": 10,
     "metadata": {},
     "output_type": "execute_result"
    }
   ],
   "source": [
    "decoded1, decoded2, decoded3"
   ]
  },
  {
   "cell_type": "code",
   "execution_count": 11,
   "id": "governing-deployment",
   "metadata": {},
   "outputs": [
    {
     "name": "stdout",
     "output_type": "stream",
     "text": [
      "Batch_size: 100  Accuracy:  0.16\n",
      "Batch_size: 800  Accuracy:  0.234\n",
      "Batch_size: 1500  Accuracy:  0.391\n"
     ]
    }
   ],
   "source": [
    "BATCH_SIZE = [100, 800, 1500]\n",
    "\n",
    "def decoding_accuracy(y_true, y_pred):\n",
    "    return (np.array(list(y_pred)) == np.array(list(y_true))).mean()\n",
    "\n",
    "def print_accuracy(test1, decoded1, test2, decoded2, test3, decoded3):\n",
    "    for i, (real, decoded) in enumerate([(test1, decoded1), (test2, decoded2), (test3, decoded3)]):\n",
    "        print(\"Batch_size:\", BATCH_SIZE[i], \" Accuracy: \", round(decoding_accuracy(real, decoded), 3))\n",
    "\n",
    "print_accuracy(test1, decoded1, test2, decoded2, test3, decoded3)"
   ]
  },
  {
   "cell_type": "markdown",
   "id": "unknown-advocate",
   "metadata": {},
   "source": [
    "*Такой результат, конечно, что-то декодирует, но на выходе текст абсолютно не читаем, поэтому нужно придумывать что-то еще*"
   ]
  },
  {
   "cell_type": "markdown",
   "id": "irish-separate",
   "metadata": {},
   "source": [
    "# 2. Биграммы\n",
    "\n",
    "Попробуем теперь использовать биграммы"
   ]
  },
  {
   "cell_type": "code",
   "execution_count": 12,
   "id": "raised-wisconsin",
   "metadata": {},
   "outputs": [],
   "source": [
    "def make_bigrams(text):\n",
    "    return [text[i:i+2] for i in range(len(text) - 1)]\n",
    "\n",
    "\n",
    "def bigramm_mapping(encoded, real):  \n",
    "    mapping_bigrams = {}\n",
    "    already_mapped = []\n",
    "    left_undecoded = []\n",
    "    \n",
    "    encoded_count = Counter(encoded).most_common()\n",
    "    real_count = Counter(real).most_common()\n",
    "    encoded_bigrams_count = Counter(make_bigrams(encoded)).most_common()\n",
    "    real_bigrams_count = Counter(make_bigrams(real)).most_common()\n",
    "    \n",
    "    for enc, _ in encoded_bigrams_count:\n",
    "        if enc[0] in mapping_bigrams and enc[1] in mapping_bigrams:\n",
    "            continue\n",
    "        elif enc[0] in mapping_bigrams:\n",
    "            mapped = mapping_bigrams[enc[0]]\n",
    "            ponential_symbols = [rea for rea, _ in real_bigrams_count if rea[0] == mapped and rea[1] not in already_mapped]\n",
    "            if len(ponential_symbols) >= 1:\n",
    "                mapping_bigrams[enc[1]] = ponential_symbols[0][1]\n",
    "                already_mapped.append(ponential_symbols[0][1])\n",
    "            else:\n",
    "                if enc[0] not in left_undecoded:\n",
    "                    left_undecoded.append(enc[1])\n",
    "        elif enc[1] in mapping_bigrams:\n",
    "            mapped = mapping_bigrams[enc[1]]\n",
    "            ponential_symbols = [rea for rea, _ in real_bigrams_count if rea[1] == mapped and rea[0] not in already_mapped]\n",
    "            if len(ponential_symbols) >= 1:\n",
    "                mapping_bigrams[enc[0]] = ponential_symbols[0][0]\n",
    "                already_mapped.append(ponential_symbols[0][0])\n",
    "            else:\n",
    "                if enc[0] not in left_undecoded:\n",
    "                    left_undecoded.append(enc[0])\n",
    "        else:\n",
    "            ponential_symbols = [rea for rea, _ in real_bigrams_count if rea[1] not in already_mapped and rea[0] not in already_mapped]\n",
    "            mapping_bigrams[enc[0]] = ponential_symbols[0][0]\n",
    "            mapping_bigrams[enc[1]] = ponential_symbols[0][1]\n",
    "            already_mapped.append(ponential_symbols[0][0])\n",
    "            already_mapped.append(ponential_symbols[0][1])\n",
    "            \n",
    "    encoded_count = [symbol for symbol, count in encoded_count if symbol in left_undecoded]\n",
    "    for i, encoded in enumerate(encoded_count):\n",
    "        mapping_bigrams[encoded] = real_count[i][0]\n",
    "    \n",
    "    return mapping_bigrams\n",
    "\n",
    "mapping_enc_dec1 = bigramm_mapping(encoded_test1, train1)\n",
    "mapping_enc_dec2 = bigramm_mapping(encoded_test2, train2)\n",
    "mapping_enc_dec3 = bigramm_mapping(encoded_test3, train3)\n",
    "decoded1 = decode_text(encoded_test1, mapping_enc_dec1)\n",
    "decoded2 = decode_text(encoded_test2, mapping_enc_dec2)\n",
    "decoded3 = decode_text(encoded_test3, mapping_enc_dec3)"
   ]
  },
  {
   "cell_type": "code",
   "execution_count": 13,
   "id": "engaged-medication",
   "metadata": {},
   "outputs": [
    {
     "data": {
      "text/plain": [
       "('о наяоаоказ ипярязккуамогиеатопркназадьшскапрыйьлавкиотпкжо лартоко лав сашптоаотахяхкдкоькажьукскна',\n",
       " 'гыьлаокастнхупыпонгчипзнпыпонаяпстпнаогонашов ткойигкове пуптонтбпо п иавсрсгоысавнптоп нпвангтотыпоыплрчтчнедоялтш иавстнгмоигдарозгжнхого япупмнпто тктмнпто ча игтовосе едоыпладоялтш иавсрсг хоткьопноьзтона сазшас ройигко ча игткоупышаовшльыорвсрс рокастнхугмонаяiстпно о впгкобтжьча инекопылангчтннекого ча исгвекопионт ча игрошльыгдовжысршпкогоначгнасг хо пкнтнгрокьугогоипсхупонтбпопбтóаспоь япуптнгтоуоьильов токтчиангро ктъасг хого сгсг ховодап огоклауобт яакри иваогожабвтнгроупиплетоыплажшповтлпринттояпокнтнгщо акпыпосаллтрошпуиплаонаяпстпнаошпсзнеобесголажлтъгих ро ктлихщочтковежшплпвстнгткоэоюоцо фоо nюцофюеaю uоюцоаeseю uо уажасосаллтмоesофоюфоеюэн877юе8о78оойипочтспвтуонтлвнемогозтсчнемопнонтовежшплпвттиоунржхоаншлтмовочг стошльыгдобтжнаштзнедолантнедобесо шанонаояпятчтнгтозгитстмо',\n",
       " 'ознвуто ттоедрождоаынмнроидиомбовчдвеугсоговзнинт опомбуотэтугомборнаовидждекоетзтыкоанвзньгознргуцлорт по ноинрцоповидэцойеногуговгудо тнзытьтут  дпо тзнвегэгрдпоиоиненынлопо тоенукино торнацонмыдядеквпо ноиненынло торнацосбыджгековунсдргостугинтосвъогуго гчтаноансныгуон овдровтмтогугойеноенеомнаоиненыблоснеожьтвкождoгеосойенлоудьн итои пэ нлордыктло гчтано гчтано теосты наноиынрто гченэтвесдосвтаноенаноченор тозн пе ногостугчгпочтаноено тзн пе нано носдэ тлoтано нвгуигоеын цугвкозыгоидэьнроенучитон онзпекочцсвеснсдуо тсб нвгрцшомнукоугхныдьнч нтовнвенп гтоцвгугунвкогон о дчг дуомытьгекоетортчед гпонмонеrтоэт товтвеытогомцьцятровб того тэ нвекоиненыцшон огвзбебсдуосо нчко дид ц товыдэт гпоuгацыдордут кинано гченэ нано дзнутн дого дьосвтройегросбвнинто тмновнведсупугоаудс нтонв нсд гтотаноаныпчтч бхозытьведсут глоегхдпоэгж коговзнинл нтовтртл нтовчдвегтосоубвбхоаныдхозытьведсупугвкотрцон оцэто двудэьдувпойегровчдвегтроинаьдосьыцаопсупувпордут кигло дзаутн ововснгромтжцчдве бронаыд гчт  броговчдвеугсбронео твчдвегпоьыцагхосжаупьнрого дчг дугвковнр т гпорцигогоенукино тмнонмтядуноцвзнинт гтоиоцеыцосвтортчед гповртoдугвкоговугугвкосохднвогорыдиомтвздрпевесдогождмст гпоиненыбтоаныджьностынпе ттознор т гшовдрнаноудыытпоьниеныдо дзнутн доьнуэ бомбугоыджытoгеквповртыекшочтросбжьнынсут гтроhоюофо щоо tюфощюе8ю sоюфонanaю sовидждуоудыытлоanощоющоеюhèciiюеcоicоойеночтунстио тыс блогоэтуч блон о тосбжьнынсттеои пжкод ьытлосочгвутоьыцагхомтж дьтэ бхоыд т бхомбуовьд о дознзтчт гтоэгетутло')"
      ]
     },
     "execution_count": 13,
     "metadata": {},
     "output_type": "execute_result"
    }
   ],
   "source": [
    "decoded1, decoded2, decoded3"
   ]
  },
  {
   "cell_type": "code",
   "execution_count": 14,
   "id": "atlantic-advocate",
   "metadata": {},
   "outputs": [
    {
     "name": "stdout",
     "output_type": "stream",
     "text": [
      "Batch_size: 100  Accuracy:  0.06\n",
      "Batch_size: 800  Accuracy:  0.191\n",
      "Batch_size: 1500  Accuracy:  0.027\n"
     ]
    }
   ],
   "source": [
    "print_accuracy(test1, decoded1, test2, decoded2, test3, decoded3)"
   ]
  },
  {
   "cell_type": "markdown",
   "id": "integrated-factory",
   "metadata": {},
   "source": [
    "*Все еще совсем грустно*"
   ]
  },
  {
   "cell_type": "markdown",
   "id": "willing-radical",
   "metadata": {},
   "source": [
    "# 3. MCMC-сэмплирование\n",
    "\n",
    "Попробуем воспользоваться MCMC-сэмплированием для улучшения результатов. А именно, для какого-то случайного декодирования будем случайным образом совершать перестановку двух символов.\n",
    "После этого, если логарифм правдоподобия дешифровки увеличился, одобряем данную перестановку. Если же уменьшился, то сравним отношение нового правдоподобия к старому со случайным числом от 0 до 1 и одобрим таким образом только часть перестановок."
   ]
  },
  {
   "cell_type": "code",
   "execution_count": 15,
   "id": "musical-given",
   "metadata": {},
   "outputs": [],
   "source": [
    "def random_swap(decoded_symbols):\n",
    "    new_decode = decoded_symbols.copy()\n",
    "    left_id, right_id = np.random.choice(range(0, len(decoded_symbols)), size=2, replace=False)\n",
    "    new_decode[left_id], new_decode[right_id] = new_decode[right_id], new_decode[left_id]\n",
    "    \n",
    "    return new_decode\n",
    "\n",
    "\n",
    "def sum_probs(bigrams, mapa, log_likelyhood, symbol_ids):\n",
    "    return sum([count * log_likelyhood[symbol_ids[mapa[bigram[0]]], \n",
    "                        symbol_ids[mapa[bigram[1]]]] for bigram, count in bigrams]) if bigrams else 0\n",
    "\n",
    "def mcmc_mapping(encoded, real, n_epoches=10, n_iter=1000):\n",
    "    probs = []\n",
    "    new_maps = []\n",
    "    \n",
    "    encoded_bigrams = Counter(make_bigrams(encoded)).most_common()\n",
    "    decoded_bigrams = Counter(make_bigrams(real)).most_common()\n",
    "    encoded_chars = list(set(encoded))\n",
    "    decoded_chars = list(set(real))\n",
    "\n",
    "    \n",
    "    # Computing bigrams log-likelyhoods\n",
    "    likelyhood = np.ones((len(decoded_chars), len(decoded_chars)))\n",
    "    symbol_ids = {symb: i for i, symb in enumerate(decoded_chars)}\n",
    "    for bigram, count in decoded_bigrams:\n",
    "        likelyhood[symbol_ids[bigram[0]], symbol_ids[bigram[1]]] += count\n",
    "    likelyhood /= likelyhood.sum()\n",
    "    log_likelyhood = np.log(likelyhood)\n",
    "    \n",
    "    \n",
    "    # Sampling\n",
    "    for _ in range(n_epoches):\n",
    "        decoded_chars = list(set(real))\n",
    "        start_map = dict(zip(encoded_chars, decoded_chars))\n",
    "        prob = sum_probs(encoded_bigrams, start_map, log_likelyhood, symbol_ids)\n",
    "        \n",
    "        # Start sampling\n",
    "        for i in range(n_iter):\n",
    "            # Swaping random chars\n",
    "            new_decoded_chars = random_swap(decoded_chars)\n",
    "            new_map = dict(zip(encoded_chars, new_decoded_chars))\n",
    "            # Calculating sum log_likelyhood over new (swapped) decoding\n",
    "            new_prob = sum_probs(encoded_bigrams, new_map, log_likelyhood, symbol_ids)\n",
    "            \n",
    "            # If it's better, approve it\n",
    "            if new_prob > prob:\n",
    "                decoded_chars = new_decoded_chars\n",
    "                prob = new_prob\n",
    "                start_map = new_map\n",
    "            else:\n",
    "                # If not, approve it sometimes\n",
    "                if np.exp(new_prob - prob) > np.random.rand():\n",
    "                    decoded_chars = new_decoded_chars\n",
    "                    prob = new_prob\n",
    "                    start_map = new_map\n",
    "        \n",
    "        # Saving epoch results\n",
    "        probs.append(prob)\n",
    "        new_maps.append(start_map)\n",
    "    \n",
    "    # Get best epoch\n",
    "    best_index = np.argmax(probs)\n",
    "    \n",
    "    return new_maps[best_index]\n",
    "\n",
    "\n",
    "mapping_enc_dec1 = mcmc_mapping(encoded_test1, train1, 10, 3000)\n",
    "mapping_enc_dec2 = mcmc_mapping(encoded_test2, train2, 10, 3000)\n",
    "mapping_enc_dec3 = mcmc_mapping(encoded_test3, train3, 10, 3000)\n",
    "decoded1 = decode_text(encoded_test1, mapping_enc_dec1)\n",
    "decoded2 = decode_text(encoded_test2, mapping_enc_dec2)\n",
    "decoded3 = decode_text(encoded_test3, mapping_enc_dec3)"
   ]
  },
  {
   "cell_type": "code",
   "execution_count": 16,
   "id": "little-birthday",
   "metadata": {},
   "outputs": [
    {
     "name": "stdout",
     "output_type": "stream",
     "text": [
      "Batch_size: 100  Accuracy:  0.32\n",
      "Batch_size: 800  Accuracy:  0.39\n",
      "Batch_size: 1500  Accuracy:  0.277\n"
     ]
    }
   ],
   "source": [
    "print_accuracy(test1, decoded1, test2, decoded2, test3, decoded3)"
   ]
  },
  {
   "cell_type": "markdown",
   "id": "functioning-marine",
   "metadata": {},
   "source": [
    "*Стало немного лучше, но это не то, чего мы ждем*"
   ]
  },
  {
   "cell_type": "code",
   "execution_count": 17,
   "id": "widespread-communications",
   "metadata": {},
   "outputs": [],
   "source": [
    "mapping_enc_dec1 = mcmc_mapping(encoded_test1, train1, 10, 30000)\n",
    "mapping_enc_dec2 = mcmc_mapping(encoded_test2, train2, 10, 30000)\n",
    "mapping_enc_dec3 = mcmc_mapping(encoded_test3, train3, 10, 30000)\n",
    "decoded1 = decode_text(encoded_test1, mapping_enc_dec1)\n",
    "decoded2 = decode_text(encoded_test2, mapping_enc_dec2)\n",
    "decoded3 = decode_text(encoded_test3, mapping_enc_dec3)"
   ]
  },
  {
   "cell_type": "code",
   "execution_count": 18,
   "id": "split-consumption",
   "metadata": {},
   "outputs": [
    {
     "name": "stdout",
     "output_type": "stream",
     "text": [
      "Batch_size: 100  Accuracy:  0.27\n",
      "Batch_size: 800  Accuracy:  0.95\n",
      "Batch_size: 1500  Accuracy:  0.973\n"
     ]
    }
   ],
   "source": [
    "print_accuracy(test1, decoded1, test2, decoded2, test3, decoded3)"
   ]
  },
  {
   "cell_type": "code",
   "execution_count": 19,
   "id": "accomplished-resident",
   "metadata": {},
   "outputs": [
    {
     "data": {
      "text/plain": [
       "('тай ут то васкурувоол этысь иткрой в дезно крющея постикочтая ритотая пан зкит ти гугодотео челоной ',\n",
       " 'игура маленького ничтожного наполеона и над всем этим высокое небо составляли главное основание его горячечных представлений тихая жизнь и спокойное семейное счастие в лысых горах представлялись ему он уже наслаждался этим счастием когда вдруг являлся маленький напшлеон с своим безучастным ограниченным и счастливым от несчастия других взглядом и начинались сомнения муки и только небо обецало успокоение к утру все мечтания смещались и слились в хаос и мрак беспамятства и забвения которые гораздо вероятнее по мнению самого ларрея доктора наполеона должны были разрещиться смертью чем выздоровлением m eur ns under sechent er avivent сказал ларрей vi s es cembolleco lou это человек нервный и желчный он не выздоровеет князь андрей в числе других безнадежных раненых был сдан на попечение жителей ',\n",
       " ' после нее там за гробом как бы счастлив и спокоен я был ежели бы мог сказать теперь господи помилуй меня но кому я скажу это или сила неопределенная непостижимая к которой я не только не могу обращаться но которой не могу выразить словами великое всё или ничего говорил он сам себе или это тот бог который вот здесь зашит в этой ладонке княжной марьей ничего ничего нет верного кроме ничтожества всего того что мне понятно и величия чего то непонятного но важнейшего носилки тронулись при каждом толчке он опять чувствовал невыносимую боль лихорадочное состояние усилилось и он начинал бредить те мечтания об отъе жене сестре и будущем сыне и нежность которую он испытывал в ночь накануне сражения фигура маленького ничтожного наполеона и над всем этим высокое небо составляли главное основание его горячечных представлений тихая жизнь и спокойное семейное счастие в лысых горах представлялись ему он уже наслаждался этим счастием когда вдруг являлся маленький напцлеон с своим безучастным ограниченным и счастливым от несчастия других взглядом и начинались сомнения муки и только небо обещало успокоение к утру все мечтания смешались и слились в хаос и мрак беспамятства и забвения которые гораздо вероятнее по мнению самого ларрея доктора наполеона должны были разрешиться смертью чем выздоровлением d int es nexit sichiez it bomoiez сказал ларрей om s is cidrallica lan это человек нервный и желчный он не выздоровеет князь андрей в числе других безнадежных раненых был сдан на попечение жителей ')"
      ]
     },
     "execution_count": 19,
     "metadata": {},
     "output_type": "execute_result"
    }
   ],
   "source": [
    "decoded1, decoded2, decoded3"
   ]
  },
  {
   "cell_type": "markdown",
   "id": "finite-edgar",
   "metadata": {},
   "source": [
    "*А вот теперь уже похоже на правду*"
   ]
  },
  {
   "cell_type": "markdown",
   "id": "english-score",
   "metadata": {},
   "source": [
    "# 4. Расшифруем сообщение"
   ]
  },
  {
   "cell_type": "code",
   "execution_count": 20,
   "id": "experienced-shark",
   "metadata": {},
   "outputs": [],
   "source": [
    "# encoded_ = \"დჳჵჂႨშႼႨშჂხჂჲდႨსႹႭჾႣჵისႼჰႨჂჵჂႨႲႹႧჲჂႨსႹႭჾႣჵისႼჰႨჲდႩჳჲႨჇႨႠჲႹქႹႨჳႹႹჱჶდსჂႽႨႩႹჲႹႭႼჰႨჵდქႩႹႨႲႭႹႧჂჲႣჲიႨ\" \\\n",
    "#            \"ჳႩႹႭდდႨშჳდქႹႨშႼႨშჳდႨჳხდჵႣჵჂႨႲႭႣშჂჵისႹႨჂႨႲႹჵჇႧჂჲდႨჾႣႩჳჂჾႣჵისႼჰႨჱႣჵჵႨეႣႨႲႹჳჵდხსდდႨႧდჲშდႭჲႹდႨეႣხႣს\" \\\n",
    "#            \"ჂდႨႩჇႭჳႣႨႾႹჲႽႨႩႹსდႧსႹႨႽႨსჂႧდქႹႨსდႨႹჱდჶႣნ\"\n",
    "\n",
    "encoded_ = \"←⇠⇒↟↹↷⇊↹↷↟↤↟↨←↹↝⇛⇯↳⇴⇒⇈↝⇊↾↹↟⇒↟↹⇷⇛⇞↨↟↹↝⇛⇯↳⇴⇒⇈↝⇊↾↹↨←⇌⇠↨↹⇙↹⇸↨⇛↙⇛↹⇠⇛⇛↲⇆←↝↟↞↹⇌⇛↨⇛⇯⇊↾↹⇒←↙⇌⇛↹⇷⇯⇛⇞↟↨⇴↨⇈↹⇠⇌⇛⇯←←↹↷⇠←↙⇛↹↷⇊↹↷⇠←↹⇠↤←⇒⇴⇒↟↹⇷⇯⇴↷↟⇒⇈↝⇛↹↟↹⇷⇛⇒⇙⇞↟↨←↹↳⇴⇌⇠↟↳⇴⇒⇈↝⇊↾↹↲⇴⇒⇒↹⇰⇴↹⇷⇛⇠⇒←↤↝←←↹⇞←↨↷←⇯↨⇛←↹⇰⇴↤⇴↝↟←↹⇌⇙⇯⇠⇴↹↘⇛↨↞↹⇌⇛↝←⇞↝⇛↹↞↹↝↟⇞←↙⇛↹↝←↹⇛↲←⇆⇴⇏\"\n",
    "\n",
    "expected_output = \"если вы видите нормальный или почти нормальный текст у этого сообшения который легко прочитать скорее всего вы все сделали правильно и получите максимальный балл за последнее четвертое задание курса хотя конечно я ничего не обещаю\""
   ]
  },
  {
   "cell_type": "code",
   "execution_count": 22,
   "id": "precious-lounge",
   "metadata": {},
   "outputs": [],
   "source": [
    "mapping_enc_dec_ = mcmc_mapping(encoded_, corpus, 30, 30000)\n",
    "decoded_ = decode_text(encoded_, mapping_enc_dec_)"
   ]
  },
  {
   "cell_type": "code",
   "execution_count": 23,
   "id": "adjusted-colleague",
   "metadata": {},
   "outputs": [
    {
     "data": {
      "text/plain": [
       "'если вы вимите нордальный или почти нордальный текст у этого сообщения который легко прочитать скорее всего вы все смелали правильно и получите даксидальный балл за послемнее четвертое замание курса хотя конечно я ничего не обещаж'"
      ]
     },
     "execution_count": 23,
     "metadata": {},
     "output_type": "execute_result"
    }
   ],
   "source": [
    "decoded_"
   ]
  },
  {
   "cell_type": "code",
   "execution_count": 24,
   "id": "fixed-crash",
   "metadata": {},
   "outputs": [
    {
     "name": "stdout",
     "output_type": "stream",
     "text": [
      "Accuracy:  0.957\n"
     ]
    }
   ],
   "source": [
    "print(\"Accuracy: \", round(decoding_accuracy(expected_output, decoded_), 3))"
   ]
  },
  {
   "cell_type": "markdown",
   "id": "molecular-edinburgh",
   "metadata": {},
   "source": [
    "*Как видно, результат вполне читаемый*"
   ]
  },
  {
   "cell_type": "code",
   "execution_count": null,
   "id": "through-diving",
   "metadata": {},
   "outputs": [],
   "source": []
  }
 ],
 "metadata": {
  "kernelspec": {
   "display_name": "Python 3",
   "language": "python",
   "name": "python3"
  },
  "language_info": {
   "codemirror_mode": {
    "name": "ipython",
    "version": 3
   },
   "file_extension": ".py",
   "mimetype": "text/x-python",
   "name": "python",
   "nbconvert_exporter": "python",
   "pygments_lexer": "ipython3",
   "version": "3.7.9"
  }
 },
 "nbformat": 4,
 "nbformat_minor": 5
}
