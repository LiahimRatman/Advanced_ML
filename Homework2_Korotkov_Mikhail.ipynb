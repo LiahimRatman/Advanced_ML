{
 "cells": [
  {
   "cell_type": "code",
   "execution_count": 1,
   "id": "super-deployment",
   "metadata": {},
   "outputs": [],
   "source": [
    "import pickle\n",
    "import pandas as pd\n",
    "import numpy as np\n",
    "import math as mt\n",
    "import torch\n",
    "from torch import nn\n",
    "from torch import optim\n",
    "from scipy.stats import kendalltau, spearmanr\n",
    "from sklearn.preprocessing import OneHotEncoder"
   ]
  },
  {
   "cell_type": "code",
   "execution_count": 2,
   "id": "recognized-guinea",
   "metadata": {},
   "outputs": [],
   "source": [
    "results = pickle.load(open('results.pkl', 'rb'))\n",
    "players = pickle.load(open('players.pkl', 'rb'))\n",
    "tournaments = pickle.load(open('tournaments.pkl', 'rb'))"
   ]
  },
  {
   "cell_type": "markdown",
   "id": "deadly-insulin",
   "metadata": {},
   "source": [
    "***Data example***"
   ]
  },
  {
   "cell_type": "code",
   "execution_count": 3,
   "id": "elder-divorce",
   "metadata": {},
   "outputs": [
    {
     "data": {
      "text/plain": [
       "{'team': {'id': 2, 'name': 'Афина', 'town': {'id': 201, 'name': 'Москва'}},\n",
       " 'mask': '011111110101101001010111011111111111001101111101011101111101111110110101111100100001111111',\n",
       " 'current': {'name': 'Афина', 'town': {'id': 201, 'name': 'Москва'}},\n",
       " 'questionsTotal': 65,\n",
       " 'synchRequest': None,\n",
       " 'position': 2.5,\n",
       " 'controversials': [],\n",
       " 'flags': [],\n",
       " 'teamMembers': [{'flag': None,\n",
       "   'usedRating': 0,\n",
       "   'rating': 0,\n",
       "   'player': {'id': 707,\n",
       "    'name': 'Елена',\n",
       "    'patronymic': 'Андреевна',\n",
       "    'surname': 'Александрова'}},\n",
       "  {'flag': None,\n",
       "   'usedRating': 0,\n",
       "   'rating': 0,\n",
       "   'player': {'id': 13551,\n",
       "    'name': 'Вадим',\n",
       "    'patronymic': 'Леонидович',\n",
       "    'surname': 'Карлинский'}},\n",
       "  {'flag': None,\n",
       "   'usedRating': 0,\n",
       "   'rating': 0,\n",
       "   'player': {'id': 15442,\n",
       "    'name': 'Дмитрий',\n",
       "    'patronymic': 'Николаевич',\n",
       "    'surname': 'Коноваленко'}},\n",
       "  {'flag': None,\n",
       "   'usedRating': 0,\n",
       "   'rating': 0,\n",
       "   'player': {'id': 25882,\n",
       "    'name': 'Максим',\n",
       "    'patronymic': 'Оскарович',\n",
       "    'surname': 'Поташев'}},\n",
       "  {'flag': None,\n",
       "   'usedRating': 0,\n",
       "   'rating': 0,\n",
       "   'player': {'id': 30475,\n",
       "    'name': 'Владимир',\n",
       "    'patronymic': 'Владимирович',\n",
       "    'surname': 'Степанов'}},\n",
       "  {'flag': None,\n",
       "   'usedRating': 0,\n",
       "   'rating': 0,\n",
       "   'player': {'id': 34846,\n",
       "    'name': 'Антон',\n",
       "    'patronymic': 'Анатольевич',\n",
       "    'surname': 'Чернин'}}]}"
      ]
     },
     "execution_count": 3,
     "metadata": {},
     "output_type": "execute_result"
    }
   ],
   "source": [
    "results[22][1]"
   ]
  },
  {
   "cell_type": "code",
   "execution_count": 4,
   "id": "atlantic-change",
   "metadata": {},
   "outputs": [
    {
     "data": {
      "text/plain": [
       "{'id': 1, 'name': 'Алексей', 'patronymic': None, 'surname': 'Абабилов'}"
      ]
     },
     "execution_count": 4,
     "metadata": {},
     "output_type": "execute_result"
    }
   ],
   "source": [
    "players[1]"
   ]
  },
  {
   "cell_type": "code",
   "execution_count": 5,
   "id": "balanced-fabric",
   "metadata": {},
   "outputs": [
    {
     "data": {
      "text/plain": [
       "{'id': 1,\n",
       " 'name': 'Чемпионат Южного Кавказа',\n",
       " 'dateStart': '2003-07-25T00:00:00+04:00',\n",
       " 'dateEnd': '2003-07-27T00:00:00+04:00',\n",
       " 'type': {'id': 2, 'name': 'Обычный'},\n",
       " 'season': '/seasons/1',\n",
       " 'orgcommittee': [],\n",
       " 'synchData': None,\n",
       " 'questionQty': None}"
      ]
     },
     "execution_count": 5,
     "metadata": {},
     "output_type": "execute_result"
    }
   ],
   "source": [
    "tournaments[1]"
   ]
  },
  {
   "cell_type": "markdown",
   "id": "transsexual-amazon",
   "metadata": {},
   "source": [
    "***START***"
   ]
  },
  {
   "cell_type": "markdown",
   "id": "color-lodge",
   "metadata": {},
   "source": [
    "***1. Data preparation***"
   ]
  },
  {
   "cell_type": "code",
   "execution_count": 6,
   "id": "coordinated-textbook",
   "metadata": {},
   "outputs": [],
   "source": [
    "train_data_list =  []\n",
    "test_data_list = []\n",
    "for tournament, teams in results.items():\n",
    "    for team in teams:\n",
    "        tournament_year = tournaments[tournament][\"dateStart\"][:4]\n",
    "        if team.get(\"mask\", None) and tournament_year in ['2019', '2020']:\n",
    "            for member in team['teamMembers']:\n",
    "                add = {}\n",
    "                add['team_id'] = int(team['team']['id'])\n",
    "                add['team_member'] = int(member['player']['id'])\n",
    "                add['tournament_id'] = int(tournament)\n",
    "                add['avg_score'] = team['mask'].count('1') / len(team['mask'])\n",
    "                add = {\n",
    "                    \"tournament_id\": tournament,\n",
    "                    \"tournament_name\": tournaments.get(tournament).get(\"name\"),\n",
    "                    \"team_id\": team[\"team\"][\"id\"],\n",
    "                    \"team_name\": team[\"team\"][\"name\"],\n",
    "                    \"player_id\": member[\"player\"][\"id\"],\n",
    "                    \"player_name\": member[\"player\"][\"surname\"] + \" \" + member[\"player\"][\"name\"] + \" \" + member[\"player\"][\"patronymic\"],\n",
    "                    \"position\": team.get(\"position\", None),\n",
    "                }\n",
    "                if tournament_year == '2019':\n",
    "                    add[\"number_of_questions\"] = sum(tournaments.get(tournament).get(\"questionQty\").values())\n",
    "                    add[\"questions_mask\"] = team[\"mask\"]\n",
    "                    if add[\"number_of_questions\"] == len(add[\"questions_mask\"]):\n",
    "                        train_data_list.append(add)\n",
    "                elif tournament_year == '2020':\n",
    "                    test_data_list.append(add)"
   ]
  },
  {
   "cell_type": "code",
   "execution_count": 7,
   "id": "convinced-commerce",
   "metadata": {},
   "outputs": [],
   "source": [
    "test_data = pd.DataFrame(test_data_list)\n",
    "\n",
    "del results\n",
    "del test_data_list\n",
    "\n",
    "data_by_question = []\n",
    "for item in train_data_list:\n",
    "    for _, result in enumerate(item[\"questions_mask\"]):\n",
    "        if result in [\"0\", \"1\"]:\n",
    "            add = {\n",
    "                \"tournament_id\": item[\"tournament_id\"],\n",
    "                \"team_id\": item[\"team_id\"],\n",
    "                \"player_id\": item[\"player_id\"],\n",
    "                \"question\": str(item[\"tournament_id\"]) + \"_\" + str(_),\n",
    "                \"basic_label\": int(result),\n",
    "            }\n",
    "            data_by_question.append(add)\n",
    "            \n",
    "del train_data_list"
   ]
  },
  {
   "cell_type": "markdown",
   "id": "following-humor",
   "metadata": {},
   "source": [
    "***2. Training Logistic regression***"
   ]
  },
  {
   "cell_type": "markdown",
   "id": "positive-acrylic",
   "metadata": {},
   "source": [
    "Let's make several assumptions:\n",
    "- if team don't answer the question, then no player of the team has answered the question\n",
    "- if team answered the question then every player answered the question (this is quite naive, but we will use it for this step)\n",
    "\n",
    "Our goal is to build and train model prediction the probability of player i answering the question j"
   ]
  },
  {
   "cell_type": "code",
   "execution_count": 21,
   "id": "decreased-hepatitis",
   "metadata": {},
   "outputs": [],
   "source": [
    "df_by_question = pd.DataFrame(data_by_question).astype({\"tournament_id\": np.int32,\n",
    "                                                       \"team_id\": np.int32,\n",
    "                                                       \"player_id\": np.int32,\n",
    "                                                       \"basic_label\": np.uint8})\n",
    "\n",
    "encoder = OneHotEncoder()\n",
    "train_data = encoder.fit_transform(df_by_question[[\"player_id\", \"question\"]])\n",
    "x = torch.sparse.FloatTensor(\n",
    "    torch.LongTensor(np.vstack((train_data.tocoo().row, train_data.tocoo().col))),\n",
    "    torch.FloatTensor(train_data.data)\n",
    ")\n",
    "y = torch.FloatTensor(df_by_question[\"basic_label\"].values).view(-1, 1)"
   ]
  },
  {
   "cell_type": "code",
   "execution_count": 9,
   "id": "assured-commissioner",
   "metadata": {},
   "outputs": [],
   "source": [
    "class LogisticRegression(nn.Module):\n",
    "    def __init__(self, n_features):\n",
    "        super().__init__()\n",
    "        self.lin = nn.Linear(n_features, 1)\n",
    "        self.sigmoid = nn.Sigmoid()\n",
    "        \n",
    "    def forward(self, x):\n",
    "        return self.sigmoid(self.lin(x))\n",
    "    \n",
    "def train_step(model, x, y, lr=1, n_iter=100):\n",
    "    model.lin.reset_parameters()\n",
    "    criteria = nn.BCELoss()\n",
    "    optimizer = optim.Adam(model.parameters(), lr)\n",
    "    for i in range(n_iter):\n",
    "        optimizer.zero_grad()\n",
    "        loss = criteria(model(x), y)\n",
    "        loss.backward()\n",
    "        optimizer.step()"
   ]
  },
  {
   "cell_type": "code",
   "execution_count": 10,
   "id": "historical-parameter",
   "metadata": {},
   "outputs": [
    {
     "name": "stderr",
     "output_type": "stream",
     "text": [
      "C:\\Users\\Mikhail Korotkov\\.conda\\envs\\dl_made_env\\lib\\site-packages\\torch\\autograd\\__init__.py:132: UserWarning: CUDA initialization: Found no NVIDIA driver on your system. Please check that you have an NVIDIA GPU and installed a driver from http://www.nvidia.com/Download/index.aspx (Triggered internally at  ..\\c10\\cuda\\CUDAFunctions.cpp:100.)\n",
      "  allow_unreachable=True)  # allow_unreachable flag\n"
     ]
    }
   ],
   "source": [
    "n_features = x.shape[1]\n",
    "model = LogisticRegression(n_features)\n",
    "train_step(model, x, y, lr=0.4, n_iter=100)"
   ]
  },
  {
   "cell_type": "markdown",
   "id": "opposed-specification",
   "metadata": {},
   "source": [
    "***3. Building top of the players and calculating correlation between train and test data***"
   ]
  },
  {
   "cell_type": "markdown",
   "id": "normal-bullet",
   "metadata": {},
   "source": [
    "If we want to compare our results with test dataset we might want to calculate the team's strengs.\n",
    "Then we can rank them and compare with there real positions in 2020.\n",
    "\n",
    "Team's strengs can be described as probabilty of the team to answer an average question. \n",
    "Moreover, this probability equals 1 - probability than no one in the team will answer the question. \n",
    "As different players in the team answer the question independently we can establish the team's strengs as:\n",
    "\n",
    "Let $p_{ij}$ - j player's strengs in team i of size $N$, $q_{avg}$ - avg question, $b$ - bias\n",
    "\n",
    "$\\large{team\\_probability_i = 1 - \\prod_{j = 1}^{N}(1 - \\sigma(p_{ij} + q_{avg} + b))}$"
   ]
  },
  {
   "cell_type": "code",
   "execution_count": 11,
   "id": "rational-spokesman",
   "metadata": {},
   "outputs": [],
   "source": [
    "weights = [model.lin.weight.data[0].numpy(), model.lin.bias.data[0].numpy()]"
   ]
  },
  {
   "cell_type": "code",
   "execution_count": 12,
   "id": "plastic-recipe",
   "metadata": {},
   "outputs": [
    {
     "name": "stdout",
     "output_type": "stream",
     "text": [
      "Spearman correlation:  0.7841490583742511\n",
      "Kendall correlation:  0.6272188903866396\n"
     ]
    }
   ],
   "source": [
    "def correlations(data, encoder, parameters):\n",
    "    player_weights = {}\n",
    "    player_sum = 0\n",
    "    player_count = 0\n",
    "    question_sum = 0\n",
    "    question_count = 0\n",
    "    for i, feature in enumerate(encoder.get_feature_names()):\n",
    "        if feature[:3] == \"x0_\":\n",
    "            player_weights[int(feature[3:])] = parameters[0][i]\n",
    "            player_sum += parameters[0][i]\n",
    "            player_count += 1\n",
    "        else:\n",
    "            question_sum += parameters[0][i]\n",
    "            question_count += 1\n",
    "    \n",
    "    # Predicting player probabilities\n",
    "    data[\"player_weights\"] = data[\"player_id\"].apply(lambda x: player_weights.get(x))\n",
    "    data[\"player_weights\"].fillna(player_sum / player_count, inplace=True)\n",
    "    data[\"player_probability\"] = data[\"player_weights\"].apply(lambda x: 1 / \n",
    "                                                               (1 + np.exp( - (x + question_sum / question_count + parameters[1]))))\n",
    "\n",
    "    # Calculating probability for the whole team and grouping by tournament to compare with real team positions\n",
    "    probas = data.groupby([\"tournament_id\", \"team_id\"])[\"player_probability\"].apply(lambda x: 1 - np.prod(1 - x))\n",
    "    position = data.groupby([\"tournament_id\", \"team_id\"])[\"position\"].first()\n",
    "    group_data = pd.concat([probas, position], axis=1)\n",
    "    group_data.sort_values([\"tournament_id\", \"player_probability\"], ascending=[True, True], inplace=True)\n",
    "    \n",
    "    # Correlations\n",
    "    spearman = group_data.groupby(\"tournament_id\").apply(lambda x: - spearmanr(x[\"position\"], x[\"player_probability\"]).correlation).mean()\n",
    "    kendall = group_data.groupby(\"tournament_id\").apply(lambda x: - kendalltau(x[\"position\"], x[\"player_probability\"]).correlation).mean()\n",
    "    print(\"Spearman correlation: \", spearman)\n",
    "    print(\"Kendall correlation: \", kendall)\n",
    "\n",
    "correlations(test_data, encoder, weights)"
   ]
  },
  {
   "cell_type": "code",
   "execution_count": 13,
   "id": "supported-pottery",
   "metadata": {},
   "outputs": [
    {
     "data": {
      "text/plain": [
       "['1: Руссо Максим Михайлович played in 55 tournaments',\n",
       " '2: Брутер Александра Владимировна played in 67 tournaments',\n",
       " '3: Семушин Иван Николаевич played in 95 tournaments',\n",
       " '4: Савченков Михаил Владимирович played in 79 tournaments',\n",
       " '5: Кудинов Дмитрий Сергеевич played in 1 tournaments',\n",
       " '6: Спешков Сергей Леонидович played in 87 tournaments',\n",
       " '7: Сорожкин Артём Сергеевич played in 124 tournaments',\n",
       " '8: Пилипенко Максим Игоревич played in 1 tournaments',\n",
       " '9: Мереминский Станислав Григорьевич played in 37 tournaments',\n",
       " '10: Подюкова Валентина  played in 1 tournaments',\n",
       " '11: Левандовский Михаил Ильич played in 33 tournaments',\n",
       " '12: Николенко Сергей Игоревич played in 50 tournaments',\n",
       " '13: Прокофьева Ирина Сергеевна played in 26 tournaments',\n",
       " '14: Новиков Илья Сергеевич played in 34 tournaments',\n",
       " '15: Царёв Михаил Сергеевич played in 12 tournaments',\n",
       " '16: Саксонов Антон Владимирович played in 31 tournaments',\n",
       " '17: Либер Александр Витальевич played in 92 tournaments',\n",
       " '18: Карпелевич Анна Михайловна played in 1 tournaments',\n",
       " '19: Мокин Игорь Викторович played in 27 tournaments',\n",
       " '20: Мосягин Александр Владимирович played in 26 tournaments']"
      ]
     },
     "execution_count": 13,
     "metadata": {},
     "output_type": "execute_result"
    }
   ],
   "source": [
    "def get_top_players_with_amounts_of_plays(encoder, parameters, df_by_question, n=20):\n",
    "    player_weights = {}\n",
    "    for i, feature in enumerate(encoder.get_feature_names()):\n",
    "        if feature[:3] == \"x0_\":\n",
    "            player_weights[int(feature[3:])] = parameters[i]\n",
    "    return [str(_ + 1) + \": \" + players[i[0]][\"surname\"] + \" \" + players[i[0]][\"name\"] + \" \" +\n",
    "            players[i[0]][\"patronymic\"] + \" played in \" + \n",
    "            str(df_by_question[df_by_question[\"player_id\"]==i[0]][\"tournament_id\"].nunique()) + \n",
    "            \" tournaments\" for _, i in enumerate(sorted(player_weights.items(), key=lambda x: - x[1])[:n])]\n",
    "\n",
    "\n",
    "get_top_players_with_amounts_of_plays(encoder, weights[0], df_by_question, 20)"
   ]
  },
  {
   "cell_type": "markdown",
   "id": "chubby-universal",
   "metadata": {},
   "source": [
    "***4. Using EM algorithm to correct our predictions with players answers dependency knowledge***"
   ]
  },
  {
   "cell_type": "markdown",
   "id": "unlimited-commitment",
   "metadata": {},
   "source": [
    "If we define $t_{i}$ as team's $i$ answer, we can define $z_{ij}$ - answer of player $j$ in team $i$ as hidden variables\n",
    "\n",
    "${p(t = 1|z = 1) = 1}$\n",
    "\n",
    "\n",
    "Then, what we want on E-step is:\n",
    "${p(z_{ij} = 1|t_{i} = y)}$, where y - is an answer.\n",
    "\n",
    "\n",
    "as ${p(z_{ij} = 1|t_{i} = 0) = 0}$ we only need to find:\n",
    "\n",
    "${p(z_{ij} = 1|t_{i} = 1) = \\large\\frac{p(t_{i} = 1|z_{ij} = 1)p(z_{ij} = 1)}{p(t_{i} = 1)}}$\n",
    "\n",
    "\n",
    "Then, using predictions from M-step:\n",
    "\n",
    "$${p(z_{ij} = 1|t_{i} = 1) = \\frac{\\sigma(p_i + q_j + \\mu)}{1 - \\prod_{k=1}^{N}(1 - \\sigma(p_{ik} + q_j + \\mu))}}$$"
   ]
  },
  {
   "cell_type": "code",
   "execution_count": 14,
   "id": "enhanced-chinese",
   "metadata": {},
   "outputs": [],
   "source": [
    "def e_step(data, predicts):\n",
    "    data[\"label\"] = predicts\n",
    "    data.loc[data[\"basic_label\"] == 0, \"label\"] = 0\n",
    "    data.loc[data[\"basic_label\"] == 1, \"label\"] = data.loc[data[\"basic_label\"] == 1, \"label\"] / \\\n",
    "    data[data[\"basic_label\"] == 1].groupby([\"team_id\", \"question\"])[\"label\"].transform(lambda x: 1 - np.prod(1 - x.values))\n",
    "    return data\n",
    "\n",
    "\n",
    "def m_step(model, x, y, lr=1e-4, n_iter=50):\n",
    "    model.lin.reset_parameters()\n",
    "    criteria = nn.BCELoss()\n",
    "    optimizer = optim.Adam(model.parameters(), lr)\n",
    "    for i in range(n_iter):\n",
    "        optimizer.zero_grad()\n",
    "        output = model(x)\n",
    "        loss = criteria(output, y)\n",
    "        loss.backward()\n",
    "        optimizer.step()"
   ]
  },
  {
   "cell_type": "code",
   "execution_count": 15,
   "id": "sixth-suspect",
   "metadata": {},
   "outputs": [
    {
     "name": "stdout",
     "output_type": "stream",
     "text": [
      "First EM step\n",
      "Spearman correlation:  0.7939742284850609\n",
      "Kendall correlation:  0.638210608081932\n"
     ]
    }
   ],
   "source": [
    "# Let's do one EM step\n",
    "print(\"First EM step\")\n",
    "predicts = model(x).detach().numpy().flatten()\n",
    "question_answer_data__ = e_step(df_by_question.copy(), predicts)\n",
    "y = torch.FloatTensor(question_answer_data__[\"label\"].values).view(-1, 1)\n",
    "m_step(model, x, y, lr=1, n_iter=100)\n",
    "weights = [model.lin.weight.data[0].numpy(), model.lin.bias.data[0].numpy()]\n",
    "correlations(test_data, encoder, weights)"
   ]
  },
  {
   "cell_type": "code",
   "execution_count": 16,
   "id": "sophisticated-jason",
   "metadata": {},
   "outputs": [
    {
     "name": "stdout",
     "output_type": "stream",
     "text": [
      "Iteration:  2\n",
      "Spearman correlation:  0.7940165038369098\n",
      "Kendall correlation:  0.6381864092709209\n",
      "Iteration:  3\n",
      "Spearman correlation:  0.7968135701095866\n",
      "Kendall correlation:  0.6403350102670844\n",
      "Iteration:  4\n",
      "Spearman correlation:  0.7972285131208035\n",
      "Kendall correlation:  0.6411090201440234\n",
      "Iteration:  5\n",
      "Spearman correlation:  0.7998539536546474\n",
      "Kendall correlation:  0.6448975747469757\n",
      "Iteration:  6\n",
      "Spearman correlation:  0.8013588764635735\n",
      "Kendall correlation:  0.6463833627792295\n",
      "Iteration:  7\n",
      "Spearman correlation:  0.8013211652449049\n",
      "Kendall correlation:  0.6462529804481234\n",
      "Iteration:  8\n",
      "Spearman correlation:  0.8010457653707796\n",
      "Kendall correlation:  0.6459347109064342\n",
      "Iteration:  9\n",
      "Spearman correlation:  0.8012001305518531\n",
      "Kendall correlation:  0.6458371814404334\n"
     ]
    }
   ],
   "source": [
    "# Repeat several times\n",
    "NUMBER_OF_EM_STEPS = 8\n",
    "predicts = model(x).detach().numpy().flatten()\n",
    "for i in range(NUMBER_OF_EM_STEPS):\n",
    "    print(\"Iteration: \", i + 2)\n",
    "    question_answer_data__ = e_step(question_answer_data__, predicts)\n",
    "    y = torch.FloatTensor(question_answer_data__[\"label\"].values).view(-1, 1)\n",
    "    m_step(model, x, y, lr=1, n_iter=100)\n",
    "    predicts = model(x).detach().numpy().flatten()\n",
    "    weights = [model.lin.weight.data[0].numpy(), model.lin.bias.data[0].numpy()]\n",
    "    correlations(test_data, encoder, weights)"
   ]
  },
  {
   "cell_type": "markdown",
   "id": "accomplished-victory",
   "metadata": {},
   "source": [
    "As we can see correlation is growing slightly, so everything is ok"
   ]
  },
  {
   "cell_type": "markdown",
   "id": "roman-diploma",
   "metadata": {},
   "source": [
    "***5. Creating tournament rating and players top***"
   ]
  },
  {
   "cell_type": "code",
   "execution_count": 17,
   "id": "earned-korea",
   "metadata": {},
   "outputs": [],
   "source": [
    "question_weights = {}\n",
    "for i, feature in enumerate(encoder.get_feature_names()):\n",
    "    if feature[:3] == \"x1_\":\n",
    "        question_weights[feature[3:]] = weights[0][i]"
   ]
  },
  {
   "cell_type": "code",
   "execution_count": 18,
   "id": "varying-slovenia",
   "metadata": {},
   "outputs": [],
   "source": [
    "tournament_weights = question_answer_data__.groupby(\"tournament_id\")[\"question\"].apply(lambda x: np.mean([question_weights[q] for q in x])).sort_values().reset_index()[\"tournament_id\"].apply(lambda x: tournaments[x][\"name\"])"
   ]
  },
  {
   "cell_type": "code",
   "execution_count": 19,
   "id": "raised-yugoslavia",
   "metadata": {},
   "outputs": [
    {
     "data": {
      "text/plain": [
       "0               Чемпионат Санкт-Петербурга. Первая лига\n",
       "1                                Чемпионат Таджикистана\n",
       "2                                           Угрюмый Ёрш\n",
       "3                Зеркало мемориала памяти Михаила Басса\n",
       "4                            Синхрон высшей лиги Москвы\n",
       "5                                    Воображаемый музей\n",
       "6                          Первенство правого полушария\n",
       "7                       Чемпионат Мира. Этап 2 Группа С\n",
       "8                      Чемпионат Мира. Этап 2. Группа В\n",
       "9                      Чемпионат Мира. Этап 3. Группа С\n",
       "10                        Мемориал памяти Михаила Басса\n",
       "11    Седьмая октава: Кубок Равноденствия. Лига Наци...\n",
       "12                                               День D\n",
       "13                                     Записки охотника\n",
       "14              Чемпионат Санкт-Петербурга. Высшая лига\n",
       "15                                     Знание – Сила VI\n",
       "16                                     Чемпионат России\n",
       "17                     Чемпионат Мира. Этап 1. Группа С\n",
       "18                     Чемпионат Мира. Этап 2. Группа А\n",
       "19                      Чемпионат Мира. Финал. Группа С\n",
       "Name: tournament_id, dtype: object"
      ]
     },
     "execution_count": 19,
     "metadata": {},
     "output_type": "execute_result"
    }
   ],
   "source": [
    "tournament_weights.head(20)"
   ]
  },
  {
   "cell_type": "code",
   "execution_count": 20,
   "id": "ecological-burden",
   "metadata": {},
   "outputs": [
    {
     "data": {
      "text/plain": [
       "['1: Пилипенко Максим Игоревич played in 1 tournaments',\n",
       " '2: Немец Илья Сергеевич played in 2 tournaments',\n",
       " '3: Бровченко Елена Борисовна played in 1 tournaments',\n",
       " '4: Козлова Ольга Александровна played in 1 tournaments',\n",
       " '5: Подюкова Валентина  played in 1 tournaments',\n",
       " '6: Голудина Мария Юрьевна played in 1 tournaments',\n",
       " '7: Кудинов Дмитрий Сергеевич played in 1 tournaments',\n",
       " '8: Фрайман Феликс  played in 1 tournaments',\n",
       " '9: Лазарева Галина Вячеславовна played in 1 tournaments',\n",
       " '10: Петров Игорь  played in 1 tournaments',\n",
       " '11: Иоаннидис Андриан  played in 1 tournaments',\n",
       " '12: Королихин Анатолий  played in 1 tournaments',\n",
       " '13: Луконин Дмитрий  played in 1 tournaments',\n",
       " '14: Петров Роман  played in 1 tournaments',\n",
       " '15: Спектор Евгений Павлович played in 8 tournaments',\n",
       " '16: Прохоров Константин  played in 1 tournaments',\n",
       " '17: Войцеховская Станислава Валерьевна played in 1 tournaments',\n",
       " '18: Ишин Вадим Александрович played in 1 tournaments',\n",
       " '19: Шобанов Андрей  played in 1 tournaments',\n",
       " '20: Царёв Михаил Сергеевич played in 12 tournaments']"
      ]
     },
     "execution_count": 20,
     "metadata": {},
     "output_type": "execute_result"
    }
   ],
   "source": [
    "get_top_players_with_amounts_of_plays(encoder, weights[0], df_by_question, 20)"
   ]
  },
  {
   "cell_type": "code",
   "execution_count": null,
   "id": "seasonal-jacksonville",
   "metadata": {},
   "outputs": [],
   "source": []
  },
  {
   "cell_type": "code",
   "execution_count": null,
   "id": "returning-kingdom",
   "metadata": {},
   "outputs": [],
   "source": []
  }
 ],
 "metadata": {
  "kernelspec": {
   "display_name": "Python 3",
   "language": "python",
   "name": "python3"
  },
  "language_info": {
   "codemirror_mode": {
    "name": "ipython",
    "version": 3
   },
   "file_extension": ".py",
   "mimetype": "text/x-python",
   "name": "python",
   "nbconvert_exporter": "python",
   "pygments_lexer": "ipython3",
   "version": "3.7.9"
  }
 },
 "nbformat": 4,
 "nbformat_minor": 5
}
